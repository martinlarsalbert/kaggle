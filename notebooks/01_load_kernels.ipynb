{
 "cells": [
  {
   "cell_type": "markdown",
   "metadata": {},
   "source": [
    "# Load kernels using the kaggle api"
   ]
  },
  {
   "cell_type": "code",
   "execution_count": 1,
   "metadata": {},
   "outputs": [],
   "source": [
    "from kaggle.api.kaggle_api_extended import KaggleApi\n",
    "import os\n",
    "import json\n",
    "\n",
    "import nbformat\n",
    "from nbconvert.preprocessors import ExecutePreprocessor"
   ]
  },
  {
   "cell_type": "code",
   "execution_count": 2,
   "metadata": {},
   "outputs": [],
   "source": [
    "api = KaggleApi()\n",
    "api.authenticate()"
   ]
  },
  {
   "cell_type": "code",
   "execution_count": 3,
   "metadata": {},
   "outputs": [],
   "source": [
    "kernels = api.kernels_list(mine=True)"
   ]
  },
  {
   "cell_type": "code",
   "execution_count": 4,
   "metadata": {},
   "outputs": [],
   "source": [
    "user_name = 'martinlarsalbert'\n",
    "kernels_path = '../kernels/'\n",
    "\n",
    "for kernel  in kernels:\n",
    "    \n",
    "    ref = kernel.ref\n",
    "    name = os.path.split(ref)[-1]\n",
    "    \n",
    "    kernel_dir_path = os.path.join(kernels_path, name)\n",
    "       \n",
    "    if not os.path.exists(kernel_dir_path):\n",
    "        os.mkdir(kernel_dir_path)\n",
    "\n",
    "    s_notebook = api.kernel_pull(user_name=user_name, kernel_slug=r'y-is-normal')\n",
    "    notebook_name = '%s.ipynb' % name\n",
    "    notebook_path = os.path.join(kernel_dir_path, notebook_name)\n",
    "    \n",
    "    with open(notebook_path, mode='w') as file:   \n",
    "        #json.dump(s_notebook, file)\n",
    "        \n",
    "        file.write(s_notebook['blob']['source'])"
   ]
  },
  {
   "cell_type": "code",
   "execution_count": 5,
   "metadata": {},
   "outputs": [
    {
     "data": {
      "text/plain": [
       "[house_prices,\n",
       " Titanic Data exploration 1,\n",
       " notebookc773d4684f,\n",
       " Exercise: Missing Values,\n",
       " Exercise: Machine Learning Competitions,\n",
       " y_is_normal,\n",
       " Starter notebook KVLCC2 roll decay,\n",
       " PyMC3 Normal distribution example,\n",
       " random,\n",
       " Pandas column subtraction,\n",
       " Regression on yacht hydrodynamics data set,\n",
       " Sympy solve,\n",
       " decision tree cosine,\n",
       " train test DRY management,\n",
       " latex_to_medium,\n",
       " Azure Machine Learning - Introduction,\n",
       " notebook3ab2f6e276,\n",
       " New fence,\n",
       " notebooka8380cbd0c,\n",
       " notebooka4c2cd0920]"
      ]
     },
     "execution_count": 5,
     "metadata": {},
     "output_type": "execute_result"
    }
   ],
   "source": [
    "kernels"
   ]
  },
  {
   "cell_type": "code",
   "execution_count": 9,
   "metadata": {},
   "outputs": [],
   "source": [
    "run_kernel_names = [\n",
    "    'y-is-normal',\n",
    "    'latex-to-medium'\n",
    "]\n",
    "\n",
    "\n",
    "    \n",
    "for name in run_kernel_names:\n",
    "    \n",
    "    kernel_dir_path = os.path.join(kernels_path, name)\n",
    "       \n",
    "    notebook_name = '%s.ipynb' % name\n",
    "    notebook_path = os.path.join(kernel_dir_path, notebook_name)\n",
    "        \n",
    "    ## Open and run notebook:\n",
    "    with open(notebook_path) as f:\n",
    "        nb = nbformat.read(f, as_version=4)\n",
    "        \n",
    "    ep = ExecutePreprocessor(timeout=600, kernel_name='python3')\n",
    "    ep.preprocess(nb)\n",
    "    with open(notebook_path, 'w', encoding='utf-8') as f:\n",
    "        nbformat.write(nb, f)"
   ]
  },
  {
   "cell_type": "code",
   "execution_count": null,
   "metadata": {},
   "outputs": [],
   "source": []
  }
 ],
 "metadata": {
  "kernelspec": {
   "display_name": "Python 3",
   "language": "python",
   "name": "python3"
  },
  "language_info": {
   "codemirror_mode": {
    "name": "ipython",
    "version": 3
   },
   "file_extension": ".py",
   "mimetype": "text/x-python",
   "name": "python",
   "nbconvert_exporter": "python",
   "pygments_lexer": "ipython3",
   "version": "3.6.5"
  },
  "toc": {
   "base_numbering": 1,
   "nav_menu": {},
   "number_sections": true,
   "sideBar": true,
   "skip_h1_title": false,
   "title_cell": "Table of Contents",
   "title_sidebar": "Contents",
   "toc_cell": false,
   "toc_position": {},
   "toc_section_display": true,
   "toc_window_display": false
  }
 },
 "nbformat": 4,
 "nbformat_minor": 4
}
