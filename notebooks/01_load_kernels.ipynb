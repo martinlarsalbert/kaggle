{
 "cells": [
  {
   "cell_type": "markdown",
   "metadata": {},
   "source": [
    "# Load kernels using the kaggle api"
   ]
  },
  {
   "cell_type": "code",
   "execution_count": 2,
   "metadata": {},
   "outputs": [],
   "source": [
    "from kaggle.api.kaggle_api_extended import KaggleApi\n",
    "import os\n",
    "import json"
   ]
  },
  {
   "cell_type": "code",
   "execution_count": 6,
   "metadata": {},
   "outputs": [],
   "source": [
    "api = KaggleApi()\n",
    "api.authenticate()"
   ]
  },
  {
   "cell_type": "code",
   "execution_count": 7,
   "metadata": {},
   "outputs": [],
   "source": [
    "kernels = api.kernels_list(mine=True)"
   ]
  },
  {
   "cell_type": "code",
   "execution_count": 15,
   "metadata": {},
   "outputs": [],
   "source": [
    "user_name = 'martinlarsalbert'\n",
    "kernels_path = '../kernels/'\n",
    "\n",
    "for kernel  in kernels:\n",
    "    \n",
    "    ref = kernel.ref\n",
    "    name = os.path.split(ref)[-1]\n",
    "    \n",
    "    kernel_dir_path = os.path.join(kernels_path, name)\n",
    "       \n",
    "    if not os.path.exists(kernel_dir_path):\n",
    "        os.mkdir(kernel_dir_path)\n",
    "\n",
    "    s_notebook = api.kernel_pull(user_name=user_name, kernel_slug=r'y-is-normal')\n",
    "    notebook_name = '%s.ipynb' % name\n",
    "    notebook_path = os.path.join(kernel_dir_path, notebook_name)\n",
    "    \n",
    "    with open(notebook_path, mode='w') as file:   \n",
    "        #json.dump(s_notebook, file)\n",
    "        \n",
    "        file.write(s_notebook['blob']['source'])"
   ]
  },
  {
   "cell_type": "code",
   "execution_count": 20,
   "metadata": {},
   "outputs": [
    {
     "ename": "AttributeError",
     "evalue": "'Kernel' object has no attribute 'swagger_types'",
     "output_type": "error",
     "traceback": [
      "\u001b[0;31m---------------------------------------------------------------------------\u001b[0m",
      "\u001b[0;31mAttributeError\u001b[0m                            Traceback (most recent call last)",
      "\u001b[0;32m<ipython-input-20-7b5a89547807>\u001b[0m in \u001b[0;36m<module>\u001b[0;34m\u001b[0m\n\u001b[0;32m----> 1\u001b[0;31m \u001b[0mapi\u001b[0m\u001b[0;34m.\u001b[0m\u001b[0mkernels_pull_cli\u001b[0m\u001b[0;34m(\u001b[0m\u001b[0;34m[\u001b[0m\u001b[0mkernel\u001b[0m\u001b[0;34m]\u001b[0m\u001b[0;34m)\u001b[0m\u001b[0;34m\u001b[0m\u001b[0m\n\u001b[0m",
      "\u001b[0;32m~/Dev/kaggle/venv/lib/python3.6/site-packages/kaggle/api/kaggle_api_extended.py\u001b[0m in \u001b[0;36mkernels_pull_cli\u001b[0;34m(self, kernel, kernel_opt, path, metadata)\u001b[0m\n\u001b[1;32m   2087\u001b[0m                                            \u001b[0mpath\u001b[0m\u001b[0;34m=\u001b[0m\u001b[0mpath\u001b[0m\u001b[0;34m,\u001b[0m\u001b[0;34m\u001b[0m\u001b[0m\n\u001b[1;32m   2088\u001b[0m                                            \u001b[0mmetadata\u001b[0m\u001b[0;34m=\u001b[0m\u001b[0mmetadata\u001b[0m\u001b[0;34m,\u001b[0m\u001b[0;34m\u001b[0m\u001b[0m\n\u001b[0;32m-> 2089\u001b[0;31m                                            quiet=False)\n\u001b[0m\u001b[1;32m   2090\u001b[0m         \u001b[0;32mif\u001b[0m \u001b[0mmetadata\u001b[0m\u001b[0;34m:\u001b[0m\u001b[0;34m\u001b[0m\u001b[0m\n\u001b[1;32m   2091\u001b[0m             \u001b[0mprint\u001b[0m\u001b[0;34m(\u001b[0m\u001b[0;34m'Source code and metadata downloaded to '\u001b[0m \u001b[0;34m+\u001b[0m \u001b[0meffective_path\u001b[0m\u001b[0;34m)\u001b[0m\u001b[0;34m\u001b[0m\u001b[0m\n",
      "\u001b[0;32m~/Dev/kaggle/venv/lib/python3.6/site-packages/kaggle/api/kaggle_api_extended.py\u001b[0m in \u001b[0;36mkernels_pull\u001b[0;34m(self, kernel, path, metadata, quiet)\u001b[0m\n\u001b[1;32m   1986\u001b[0m \u001b[0;34m\u001b[0m\u001b[0m\n\u001b[1;32m   1987\u001b[0m         response = self.process_response(\n\u001b[0;32m-> 1988\u001b[0;31m             self.kernel_pull_with_http_info(owner_slug, kernel_slug))\n\u001b[0m\u001b[1;32m   1989\u001b[0m         \u001b[0mblob\u001b[0m \u001b[0;34m=\u001b[0m \u001b[0mresponse\u001b[0m\u001b[0;34m[\u001b[0m\u001b[0;34m'blob'\u001b[0m\u001b[0;34m]\u001b[0m\u001b[0;34m\u001b[0m\u001b[0m\n\u001b[1;32m   1990\u001b[0m \u001b[0;34m\u001b[0m\u001b[0m\n",
      "\u001b[0;32m~/Dev/kaggle/venv/lib/python3.6/site-packages/kaggle/api/kaggle_api.py\u001b[0m in \u001b[0;36mkernel_pull_with_http_info\u001b[0;34m(self, user_name, kernel_slug, **kwargs)\u001b[0m\n\u001b[1;32m   2338\u001b[0m             \u001b[0m_preload_content\u001b[0m\u001b[0;34m=\u001b[0m\u001b[0mparams\u001b[0m\u001b[0;34m.\u001b[0m\u001b[0mget\u001b[0m\u001b[0;34m(\u001b[0m\u001b[0;34m'_preload_content'\u001b[0m\u001b[0;34m,\u001b[0m \u001b[0;32mTrue\u001b[0m\u001b[0;34m)\u001b[0m\u001b[0;34m,\u001b[0m\u001b[0;34m\u001b[0m\u001b[0m\n\u001b[1;32m   2339\u001b[0m             \u001b[0m_request_timeout\u001b[0m\u001b[0;34m=\u001b[0m\u001b[0mparams\u001b[0m\u001b[0;34m.\u001b[0m\u001b[0mget\u001b[0m\u001b[0;34m(\u001b[0m\u001b[0;34m'_request_timeout'\u001b[0m\u001b[0;34m)\u001b[0m\u001b[0;34m,\u001b[0m\u001b[0;34m\u001b[0m\u001b[0m\n\u001b[0;32m-> 2340\u001b[0;31m             collection_formats=collection_formats)\n\u001b[0m\u001b[1;32m   2341\u001b[0m \u001b[0;34m\u001b[0m\u001b[0m\n\u001b[1;32m   2342\u001b[0m     \u001b[0;32mdef\u001b[0m \u001b[0mkernel_push\u001b[0m\u001b[0;34m(\u001b[0m\u001b[0mself\u001b[0m\u001b[0;34m,\u001b[0m \u001b[0mkernel_push_request\u001b[0m\u001b[0;34m,\u001b[0m \u001b[0;34m**\u001b[0m\u001b[0mkwargs\u001b[0m\u001b[0;34m)\u001b[0m\u001b[0;34m:\u001b[0m  \u001b[0;31m# noqa: E501\u001b[0m\u001b[0;34m\u001b[0m\u001b[0m\n",
      "\u001b[0;32m~/Dev/kaggle/venv/lib/python3.6/site-packages/kaggle/api_client.py\u001b[0m in \u001b[0;36mcall_api\u001b[0;34m(self, resource_path, method, path_params, query_params, header_params, body, post_params, files, response_type, auth_settings, async_req, _return_http_data_only, collection_formats, _preload_content, _request_timeout)\u001b[0m\n\u001b[1;32m    332\u001b[0m                                    \u001b[0mresponse_type\u001b[0m\u001b[0;34m,\u001b[0m \u001b[0mauth_settings\u001b[0m\u001b[0;34m,\u001b[0m\u001b[0;34m\u001b[0m\u001b[0m\n\u001b[1;32m    333\u001b[0m                                    \u001b[0m_return_http_data_only\u001b[0m\u001b[0;34m,\u001b[0m \u001b[0mcollection_formats\u001b[0m\u001b[0;34m,\u001b[0m\u001b[0;34m\u001b[0m\u001b[0m\n\u001b[0;32m--> 334\u001b[0;31m                                    _preload_content, _request_timeout)\n\u001b[0m\u001b[1;32m    335\u001b[0m         \u001b[0;32melse\u001b[0m\u001b[0;34m:\u001b[0m\u001b[0;34m\u001b[0m\u001b[0m\n\u001b[1;32m    336\u001b[0m             thread = self.pool.apply_async(self.__call_api, (resource_path,\n",
      "\u001b[0;32m~/Dev/kaggle/venv/lib/python3.6/site-packages/kaggle/api_client.py\u001b[0m in \u001b[0;36m__call_api\u001b[0;34m(self, resource_path, method, path_params, query_params, header_params, body, post_params, files, response_type, auth_settings, _return_http_data_only, collection_formats, _preload_content, _request_timeout)\u001b[0m\n\u001b[1;32m    137\u001b[0m         \u001b[0;31m# query parameters\u001b[0m\u001b[0;34m\u001b[0m\u001b[0;34m\u001b[0m\u001b[0m\n\u001b[1;32m    138\u001b[0m         \u001b[0;32mif\u001b[0m \u001b[0mquery_params\u001b[0m\u001b[0;34m:\u001b[0m\u001b[0;34m\u001b[0m\u001b[0m\n\u001b[0;32m--> 139\u001b[0;31m             \u001b[0mquery_params\u001b[0m \u001b[0;34m=\u001b[0m \u001b[0mself\u001b[0m\u001b[0;34m.\u001b[0m\u001b[0msanitize_for_serialization\u001b[0m\u001b[0;34m(\u001b[0m\u001b[0mquery_params\u001b[0m\u001b[0;34m)\u001b[0m\u001b[0;34m\u001b[0m\u001b[0m\n\u001b[0m\u001b[1;32m    140\u001b[0m             query_params = self.parameters_to_tuples(query_params,\n\u001b[1;32m    141\u001b[0m                                                      collection_formats)\n",
      "\u001b[0;32m~/Dev/kaggle/venv/lib/python3.6/site-packages/kaggle/api_client.py\u001b[0m in \u001b[0;36msanitize_for_serialization\u001b[0;34m(self, obj)\u001b[0m\n\u001b[1;32m    201\u001b[0m         \u001b[0;32melif\u001b[0m \u001b[0misinstance\u001b[0m\u001b[0;34m(\u001b[0m\u001b[0mobj\u001b[0m\u001b[0;34m,\u001b[0m \u001b[0mlist\u001b[0m\u001b[0;34m)\u001b[0m\u001b[0;34m:\u001b[0m\u001b[0;34m\u001b[0m\u001b[0m\n\u001b[1;32m    202\u001b[0m             return [self.sanitize_for_serialization(sub_obj)\n\u001b[0;32m--> 203\u001b[0;31m                     for sub_obj in obj]\n\u001b[0m\u001b[1;32m    204\u001b[0m         \u001b[0;32melif\u001b[0m \u001b[0misinstance\u001b[0m\u001b[0;34m(\u001b[0m\u001b[0mobj\u001b[0m\u001b[0;34m,\u001b[0m \u001b[0mtuple\u001b[0m\u001b[0;34m)\u001b[0m\u001b[0;34m:\u001b[0m\u001b[0;34m\u001b[0m\u001b[0m\n\u001b[1;32m    205\u001b[0m             return tuple(self.sanitize_for_serialization(sub_obj)\n",
      "\u001b[0;32m~/Dev/kaggle/venv/lib/python3.6/site-packages/kaggle/api_client.py\u001b[0m in \u001b[0;36m<listcomp>\u001b[0;34m(.0)\u001b[0m\n\u001b[1;32m    201\u001b[0m         \u001b[0;32melif\u001b[0m \u001b[0misinstance\u001b[0m\u001b[0;34m(\u001b[0m\u001b[0mobj\u001b[0m\u001b[0;34m,\u001b[0m \u001b[0mlist\u001b[0m\u001b[0;34m)\u001b[0m\u001b[0;34m:\u001b[0m\u001b[0;34m\u001b[0m\u001b[0m\n\u001b[1;32m    202\u001b[0m             return [self.sanitize_for_serialization(sub_obj)\n\u001b[0;32m--> 203\u001b[0;31m                     for sub_obj in obj]\n\u001b[0m\u001b[1;32m    204\u001b[0m         \u001b[0;32melif\u001b[0m \u001b[0misinstance\u001b[0m\u001b[0;34m(\u001b[0m\u001b[0mobj\u001b[0m\u001b[0;34m,\u001b[0m \u001b[0mtuple\u001b[0m\u001b[0;34m)\u001b[0m\u001b[0;34m:\u001b[0m\u001b[0;34m\u001b[0m\u001b[0m\n\u001b[1;32m    205\u001b[0m             return tuple(self.sanitize_for_serialization(sub_obj)\n",
      "\u001b[0;32m~/Dev/kaggle/venv/lib/python3.6/site-packages/kaggle/api_client.py\u001b[0m in \u001b[0;36msanitize_for_serialization\u001b[0;34m(self, obj)\u001b[0m\n\u001b[1;32m    204\u001b[0m         \u001b[0;32melif\u001b[0m \u001b[0misinstance\u001b[0m\u001b[0;34m(\u001b[0m\u001b[0mobj\u001b[0m\u001b[0;34m,\u001b[0m \u001b[0mtuple\u001b[0m\u001b[0;34m)\u001b[0m\u001b[0;34m:\u001b[0m\u001b[0;34m\u001b[0m\u001b[0m\n\u001b[1;32m    205\u001b[0m             return tuple(self.sanitize_for_serialization(sub_obj)\n\u001b[0;32m--> 206\u001b[0;31m                          for sub_obj in obj)\n\u001b[0m\u001b[1;32m    207\u001b[0m         \u001b[0;32melif\u001b[0m \u001b[0misinstance\u001b[0m\u001b[0;34m(\u001b[0m\u001b[0mobj\u001b[0m\u001b[0;34m,\u001b[0m \u001b[0;34m(\u001b[0m\u001b[0mdatetime\u001b[0m\u001b[0;34m.\u001b[0m\u001b[0mdatetime\u001b[0m\u001b[0;34m,\u001b[0m \u001b[0mdatetime\u001b[0m\u001b[0;34m.\u001b[0m\u001b[0mdate\u001b[0m\u001b[0;34m)\u001b[0m\u001b[0;34m)\u001b[0m\u001b[0;34m:\u001b[0m\u001b[0;34m\u001b[0m\u001b[0m\n\u001b[1;32m    208\u001b[0m             \u001b[0;32mreturn\u001b[0m \u001b[0mobj\u001b[0m\u001b[0;34m.\u001b[0m\u001b[0misoformat\u001b[0m\u001b[0;34m(\u001b[0m\u001b[0;34m)\u001b[0m\u001b[0;34m\u001b[0m\u001b[0m\n",
      "\u001b[0;32m~/Dev/kaggle/venv/lib/python3.6/site-packages/kaggle/api_client.py\u001b[0m in \u001b[0;36m<genexpr>\u001b[0;34m(.0)\u001b[0m\n\u001b[1;32m    204\u001b[0m         \u001b[0;32melif\u001b[0m \u001b[0misinstance\u001b[0m\u001b[0;34m(\u001b[0m\u001b[0mobj\u001b[0m\u001b[0;34m,\u001b[0m \u001b[0mtuple\u001b[0m\u001b[0;34m)\u001b[0m\u001b[0;34m:\u001b[0m\u001b[0;34m\u001b[0m\u001b[0m\n\u001b[1;32m    205\u001b[0m             return tuple(self.sanitize_for_serialization(sub_obj)\n\u001b[0;32m--> 206\u001b[0;31m                          for sub_obj in obj)\n\u001b[0m\u001b[1;32m    207\u001b[0m         \u001b[0;32melif\u001b[0m \u001b[0misinstance\u001b[0m\u001b[0;34m(\u001b[0m\u001b[0mobj\u001b[0m\u001b[0;34m,\u001b[0m \u001b[0;34m(\u001b[0m\u001b[0mdatetime\u001b[0m\u001b[0;34m.\u001b[0m\u001b[0mdatetime\u001b[0m\u001b[0;34m,\u001b[0m \u001b[0mdatetime\u001b[0m\u001b[0;34m.\u001b[0m\u001b[0mdate\u001b[0m\u001b[0;34m)\u001b[0m\u001b[0;34m)\u001b[0m\u001b[0;34m:\u001b[0m\u001b[0;34m\u001b[0m\u001b[0m\n\u001b[1;32m    208\u001b[0m             \u001b[0;32mreturn\u001b[0m \u001b[0mobj\u001b[0m\u001b[0;34m.\u001b[0m\u001b[0misoformat\u001b[0m\u001b[0;34m(\u001b[0m\u001b[0;34m)\u001b[0m\u001b[0;34m\u001b[0m\u001b[0m\n",
      "\u001b[0;32m~/Dev/kaggle/venv/lib/python3.6/site-packages/kaggle/api_client.py\u001b[0m in \u001b[0;36msanitize_for_serialization\u001b[0;34m(self, obj)\u001b[0m\n\u001b[1;32m    201\u001b[0m         \u001b[0;32melif\u001b[0m \u001b[0misinstance\u001b[0m\u001b[0;34m(\u001b[0m\u001b[0mobj\u001b[0m\u001b[0;34m,\u001b[0m \u001b[0mlist\u001b[0m\u001b[0;34m)\u001b[0m\u001b[0;34m:\u001b[0m\u001b[0;34m\u001b[0m\u001b[0m\n\u001b[1;32m    202\u001b[0m             return [self.sanitize_for_serialization(sub_obj)\n\u001b[0;32m--> 203\u001b[0;31m                     for sub_obj in obj]\n\u001b[0m\u001b[1;32m    204\u001b[0m         \u001b[0;32melif\u001b[0m \u001b[0misinstance\u001b[0m\u001b[0;34m(\u001b[0m\u001b[0mobj\u001b[0m\u001b[0;34m,\u001b[0m \u001b[0mtuple\u001b[0m\u001b[0;34m)\u001b[0m\u001b[0;34m:\u001b[0m\u001b[0;34m\u001b[0m\u001b[0m\n\u001b[1;32m    205\u001b[0m             return tuple(self.sanitize_for_serialization(sub_obj)\n",
      "\u001b[0;32m~/Dev/kaggle/venv/lib/python3.6/site-packages/kaggle/api_client.py\u001b[0m in \u001b[0;36m<listcomp>\u001b[0;34m(.0)\u001b[0m\n\u001b[1;32m    201\u001b[0m         \u001b[0;32melif\u001b[0m \u001b[0misinstance\u001b[0m\u001b[0;34m(\u001b[0m\u001b[0mobj\u001b[0m\u001b[0;34m,\u001b[0m \u001b[0mlist\u001b[0m\u001b[0;34m)\u001b[0m\u001b[0;34m:\u001b[0m\u001b[0;34m\u001b[0m\u001b[0m\n\u001b[1;32m    202\u001b[0m             return [self.sanitize_for_serialization(sub_obj)\n\u001b[0;32m--> 203\u001b[0;31m                     for sub_obj in obj]\n\u001b[0m\u001b[1;32m    204\u001b[0m         \u001b[0;32melif\u001b[0m \u001b[0misinstance\u001b[0m\u001b[0;34m(\u001b[0m\u001b[0mobj\u001b[0m\u001b[0;34m,\u001b[0m \u001b[0mtuple\u001b[0m\u001b[0;34m)\u001b[0m\u001b[0;34m:\u001b[0m\u001b[0;34m\u001b[0m\u001b[0m\n\u001b[1;32m    205\u001b[0m             return tuple(self.sanitize_for_serialization(sub_obj)\n",
      "\u001b[0;32m~/Dev/kaggle/venv/lib/python3.6/site-packages/kaggle/api_client.py\u001b[0m in \u001b[0;36msanitize_for_serialization\u001b[0;34m(self, obj)\u001b[0m\n\u001b[1;32m    217\u001b[0m             \u001b[0;31m# model definition for request.\u001b[0m\u001b[0;34m\u001b[0m\u001b[0;34m\u001b[0m\u001b[0m\n\u001b[1;32m    218\u001b[0m             obj_dict = {obj.attribute_map[attr]: getattr(obj, attr)\n\u001b[0;32m--> 219\u001b[0;31m                         \u001b[0;32mfor\u001b[0m \u001b[0mattr\u001b[0m\u001b[0;34m,\u001b[0m \u001b[0m_\u001b[0m \u001b[0;32min\u001b[0m \u001b[0msix\u001b[0m\u001b[0;34m.\u001b[0m\u001b[0miteritems\u001b[0m\u001b[0;34m(\u001b[0m\u001b[0mobj\u001b[0m\u001b[0;34m.\u001b[0m\u001b[0mswagger_types\u001b[0m\u001b[0;34m)\u001b[0m\u001b[0;34m\u001b[0m\u001b[0m\n\u001b[0m\u001b[1;32m    220\u001b[0m                         if getattr(obj, attr) is not None}\n\u001b[1;32m    221\u001b[0m \u001b[0;34m\u001b[0m\u001b[0m\n",
      "\u001b[0;31mAttributeError\u001b[0m: 'Kernel' object has no attribute 'swagger_types'"
     ]
    }
   ],
   "source": [
    "api.kernels_pull_cli([kernel])"
   ]
  },
  {
   "cell_type": "code",
   "execution_count": 9,
   "metadata": {},
   "outputs": [
    {
     "data": {
      "text/plain": [
       "dict_keys(['metadata', 'blob'])"
      ]
     },
     "execution_count": 9,
     "metadata": {},
     "output_type": "execute_result"
    }
   ],
   "source": [
    "s_notebook.keys()"
   ]
  },
  {
   "cell_type": "code",
   "execution_count": 10,
   "metadata": {},
   "outputs": [
    {
     "data": {
      "text/plain": [
       "{'id': 16240180,\n",
       " 'ref': 'martinlarsalbert/y-is-normal',\n",
       " 'title': 'y_is_normal',\n",
       " 'author': 'martinlarsalbert',\n",
       " 'slug': 'y-is-normal',\n",
       " 'lastRunTime': '2021-04-16T15:14:19.647Z',\n",
       " 'language': 'python',\n",
       " 'kernelType': 'notebook',\n",
       " 'isPrivate': False,\n",
       " 'enableGpu': False,\n",
       " 'enableInternet': True,\n",
       " 'categoryIds': ['linear regression',\n",
       "  'matplotlib',\n",
       "  'numpy',\n",
       "  'pandas',\n",
       "  'seaborn'],\n",
       " 'datasetDataSources': [],\n",
       " 'kernelDataSources': [],\n",
       " 'competitionDataSources': [],\n",
       " 'totalVotes': 0}"
      ]
     },
     "execution_count": 10,
     "metadata": {},
     "output_type": "execute_result"
    }
   ],
   "source": [
    "s_notebook['metadata']"
   ]
  },
  {
   "cell_type": "code",
   "execution_count": 11,
   "metadata": {},
   "outputs": [
    {
     "data": {
      "text/plain": [
       "dict_keys(['source', 'language', 'kernelType', 'slug'])"
      ]
     },
     "execution_count": 11,
     "metadata": {},
     "output_type": "execute_result"
    }
   ],
   "source": [
    "s_notebook['blob'].keys()"
   ]
  },
  {
   "cell_type": "code",
   "execution_count": 60,
   "metadata": {},
   "outputs": [
    {
     "name": "stdout",
     "output_type": "stream",
     "text": [
      "{\"metadata\":{\"kernelspec\":{\"language\":\"python\",\"display_name\":\"Python 3\",\"name\":\"python3\"},\"language_info\":{\"pygments_lexer\":\"ipython3\",\"nbconvert_exporter\":\"python\",\"version\":\"3.6.4\",\"file_extension\":\".py\",\"codemirror_mode\":{\"name\":\"ipython\",\"version\":3},\"name\":\"python\",\"mimetype\":\"text/x-python\"}},\"nbformat_minor\":4,\"nbformat\":4,\"cells\":[{\"cell_type\":\"markdown\",\"source\":\"# Is $Y$ normal?\\nIn linear regression, notation such as the below equation can be somewhat puzzeling, if you are a beginner, like me:\\n$$ Y \\\\sim \\\\mathcal{N}(\\\\alpha+\\\\beta \\\\cdot x,\\\\,\\\\epsilon)\\\\ $$\\n\\nWhat does this mean?\\n\\nDoes it mean that $ Y $ is now also normal distributed?\\n\\n$$ Y \\\\sim \\\\mathcal{N}(\\\\mu,\\\\,\\\\sigma^{2})\\\\ $$\\n\\nThis notebook explores this a bit, in order to get a more clear understanding.\\n\\n\",\"metadata\":{}},{\"cell_type\":\"code\",\"source\":\"# This Python 3 environment comes with many helpful analytics libraries installed\\n# It is defined by the kaggle/python Docker image: https://github.com/kaggle/docker-python\\n# For example, here's several helpful packages to load\\n\\nimport numpy as np # linear algebra\\nimport pandas as pd # data processing, CSV file I/O (e.g. pd.read_csv)\\nimport matplotlib.pyplot as plt\\nimport seaborn as sns\\nimport sympy as sp\",\"metadata\":{\"_uuid\":\"8f2839f25d086af736a60e9eeb907d3b93b6e0e5\",\"_cell_guid\":\"b1076dfc-b9ad-4769-8c92-a6c4dae69d19\",\"trusted\":true},\"execution_count\":null,\"outputs\":[]},{\"cell_type\":\"markdown\",\"source\":\"Lets consider a simple linear line:\",\"metadata\":{}},{\"cell_type\":\"code\",\"source\":\"x,y,alpha,beta = sp.symbols('x y alpha beta')\\neq = sp.Eq(y,\\n          alpha + beta*x)\\neq\",\"metadata\":{\"trusted\":true},\"execution_count\":null,\"outputs\":[]},{\"cell_type\":\"code\",\"source\":\"## Converting sympy expression to python method:\\nlambda_eq = sp.lambdify([x,alpha,beta],eq.rhs)\\nlambda_eq\",\"metadata\":{\"trusted\":true},\"execution_count\":null,\"outputs\":[]},{\"cell_type\":\"markdown\",\"source\":\"Here is a graph showing this line for 5 values of $x$:\",\"metadata\":{}},{\"cell_type\":\"code\",\"source\":\"N_x = 5\\nN_epsilon = 1000\\nN = N_x*N_epsilon\\n\\n\\nxs = np.linspace(0,1, int(N_x))\\nx_ = np.tile(xs,N_epsilon)\\n\\ndf = pd.DataFrame(index=x_)\\ndf['x'] = x_\\ndf['alpha'] = 10\\ndf['beta'] = 60\\ndf['y'] = lambda_eq(x=df['x'], alpha=df['alpha'], beta=df['beta'])\",\"metadata\":{\"trusted\":true},\"execution_count\":null,\"outputs\":[]},{\"cell_type\":\"code\",\"source\":\"fig,ax=plt.subplots()\\ndf.groupby(by='x').first().plot(y='y', style='o-', lw=2, ax=ax, zorder=2)\\nax.set_ylabel('y')\\nax.set_xlabel('x');\",\"metadata\":{\"trusted\":true},\"execution_count\":null,\"outputs\":[]},{\"cell_type\":\"markdown\",\"source\":\"Let's pretend that this line represents something that we can measure from a physical experiment. We assume that the measuring error is normal distributed $ \\\\epsilon \\\\sim \\\\mathcal{N}(0,\\\\,\\\\sigma^{2})\\\\ $ so that the measured values of $y$ is expressed as:\",\"metadata\":{}},{\"cell_type\":\"code\",\"source\":\"epsilon = sp.symbols('epsilon')\\neq_probabalitic = sp.Eq(eq.lhs,\\n                       eq.rhs + epsilon)\\n\\neq_probabalitic\",\"metadata\":{\"trusted\":true},\"execution_count\":null,\"outputs\":[]},{\"cell_type\":\"markdown\",\"source\":\"We measure $y$ 1000 times for each of the 5 values of $x$. This means that we will get 1000 values of the measuring error $\\\\epsilon \\\\sim \\\\mathcal{N}(0,2^{2})\\\\ $ for each $x$.\",\"metadata\":{}},{\"cell_type\":\"code\",\"source\":\"np.random.seed(42)\\ndf['epsilon'] = df.groupby('x')['y'].transform(lambda x: np.random.normal(loc=0, scale = 2.0, size=N_epsilon))\",\"metadata\":{\"trusted\":true},\"execution_count\":null,\"outputs\":[]},{\"cell_type\":\"code\",\"source\":\"## Converting sympy expression to python method:\\nlambda_eq_probabalitic = sp.lambdify([x,alpha,beta,epsilon],eq_probabalitic.rhs)\\nlambda_eq_probabalitic\",\"metadata\":{\"trusted\":true},\"execution_count\":null,\"outputs\":[]},{\"cell_type\":\"code\",\"source\":\"df['y_measure'] = lambda_eq_probabalitic(x=df['x'], alpha=df['alpha'], beta=df['beta'], epsilon=df['epsilon'])\\n\",\"metadata\":{\"trusted\":true},\"execution_count\":null,\"outputs\":[]},{\"cell_type\":\"markdown\",\"source\":\"The measured values of $y$ is shown in the graph below:\",\"metadata\":{}},{\"cell_type\":\"code\",\"source\":\"fig,ax=plt.subplots()\\ndf.plot(y='y', style='-', lw=2, ax=ax, zorder=2)\\ndf.plot(y='y_measure', style='.', alpha=0.05, ax=ax, zorder=1)\\nax.set_ylabel('y')\\nax.set_xlabel('x');\",\"metadata\":{\"trusted\":true},\"execution_count\":null,\"outputs\":[]},{\"cell_type\":\"markdown\",\"source\":\"The measured $y$ has values distributed around the true values of $y$. These distributions becomes even more visible if we create histograms of the measured $y$:\",\"metadata\":{}},{\"cell_type\":\"code\",\"source\":\"fig,ax=plt.subplots()\\nfor the_x, group in df.groupby(by='x'):\\n    group.hist(column='y_measure', bins=20, ax=ax, label='x=%0.2f' % the_x)\\n    \\nax.set_xlabel('y_measure')\\nax.legend();\",\"metadata\":{\"trusted\":true},\"execution_count\":null,\"outputs\":[]},{\"cell_type\":\"markdown\",\"source\":\"So it is very clear from the above graph that the measured $y$ is not normal distributed but the measurement error $\\\\epsilon$ (being the deviation from the idealized line) is:\",\"metadata\":{}},{\"cell_type\":\"code\",\"source\":\"ax_epsilon = sns.histplot(data=df, x=\\\"epsilon\\\", stat=\\\"density\\\", bins=20, kde=True);\\n#ax_epsilon.set_xlim(ax_y.get_xlim());\\nax_epsilon.set_xlabel('Measure error: $\\\\epsilon$');\",\"metadata\":{\"trusted\":true},\"execution_count\":null,\"outputs\":[]},{\"cell_type\":\"markdown\",\"source\":\"The histogram of the idealized $y$ looks like this, by the way:\",\"metadata\":{}},{\"cell_type\":\"code\",\"source\":\"ax_y = sns.histplot(data=df, x=\\\"y\\\", stat=\\\"density\\\", bins=20, kde=True);\",\"metadata\":{\"trusted\":true},\"execution_count\":null,\"outputs\":[]}]}\n"
     ]
    }
   ],
   "source": [
    "source = s_notebook['blob']['source']\n",
    "print(source)"
   ]
  },
  {
   "cell_type": "code",
   "execution_count": null,
   "metadata": {},
   "outputs": [],
   "source": []
  }
 ],
 "metadata": {
  "kernelspec": {
   "display_name": "Python 3",
   "language": "python",
   "name": "python3"
  },
  "language_info": {
   "codemirror_mode": {
    "name": "ipython",
    "version": 3
   },
   "file_extension": ".py",
   "mimetype": "text/x-python",
   "name": "python",
   "nbconvert_exporter": "python",
   "pygments_lexer": "ipython3",
   "version": "3.6.5"
  },
  "toc": {
   "base_numbering": 1,
   "nav_menu": {},
   "number_sections": true,
   "sideBar": true,
   "skip_h1_title": false,
   "title_cell": "Table of Contents",
   "title_sidebar": "Contents",
   "toc_cell": false,
   "toc_position": {},
   "toc_section_display": true,
   "toc_window_display": false
  }
 },
 "nbformat": 4,
 "nbformat_minor": 4
}
