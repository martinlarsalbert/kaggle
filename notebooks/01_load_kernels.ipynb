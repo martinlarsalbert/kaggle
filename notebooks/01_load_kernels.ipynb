{
 "cells": [
  {
   "cell_type": "markdown",
   "metadata": {},
   "source": [
    "# Load kernels using the kaggle api"
   ]
  },
  {
   "cell_type": "code",
   "execution_count": 44,
   "metadata": {},
   "outputs": [],
   "source": [
    "from kaggle.api.kaggle_api_extended import KaggleApi\n",
    "import os\n",
    "import json"
   ]
  },
  {
   "cell_type": "code",
   "execution_count": 12,
   "metadata": {},
   "outputs": [],
   "source": [
    "api = KaggleApi()\n",
    "api.authenticate()"
   ]
  },
  {
   "cell_type": "code",
   "execution_count": 21,
   "metadata": {},
   "outputs": [],
   "source": [
    "kernels = api.kernels_list(mine=True)"
   ]
  },
  {
   "cell_type": "code",
   "execution_count": 61,
   "metadata": {},
   "outputs": [],
   "source": [
    "user_name = 'martinlarsalbert'\n",
    "kernels_path = '../kernels/'\n",
    "\n",
    "for kernel  in kernels:\n",
    "    \n",
    "    ref = kernel.ref\n",
    "    name = os.path.split(ref)[-1]\n",
    "    \n",
    "    kernel_dir_path = os.path.join(kernels_path, name)\n",
    "       \n",
    "    if not os.path.exists(kernel_dir_path):\n",
    "        os.mkdir(kernel_dir_path)\n",
    "\n",
    "    s_notebook = api.kernel_pull(user_name=user_name, kernel_slug=r'y-is-normal')\n",
    "    notebook_name = '%s.ipynb' % name\n",
    "    notebook_path = os.path.join(kernel_dir_path, notebook_name)\n",
    "    \n",
    "    with open(notebook_path, mode='w') as file:   \n",
    "        #json.dump(s_notebook, file)\n",
    "        \n",
    "        file.write(s_notebook['blob']['source'])"
   ]
  },
  {
   "cell_type": "code",
   "execution_count": 46,
   "metadata": {},
   "outputs": [
    {
     "data": {
      "text/plain": [
       "dict_keys(['metadata', 'blob'])"
      ]
     },
     "execution_count": 46,
     "metadata": {},
     "output_type": "execute_result"
    }
   ],
   "source": [
    "s_notebook.keys()"
   ]
  },
  {
   "cell_type": "code",
   "execution_count": 47,
   "metadata": {},
   "outputs": [
    {
     "data": {
      "text/plain": [
       "{'id': 16240180,\n",
       " 'ref': 'martinlarsalbert/y-is-normal',\n",
       " 'title': 'y_is_normal',\n",
       " 'author': 'martinlarsalbert',\n",
       " 'slug': 'y-is-normal',\n",
       " 'lastRunTime': '2021-04-16T15:14:19.647Z',\n",
       " 'language': 'python',\n",
       " 'kernelType': 'notebook',\n",
       " 'isPrivate': False,\n",
       " 'enableGpu': False,\n",
       " 'enableInternet': True,\n",
       " 'categoryIds': ['linear regression',\n",
       "  'matplotlib',\n",
       "  'numpy',\n",
       "  'pandas',\n",
       "  'seaborn'],\n",
       " 'datasetDataSources': [],\n",
       " 'kernelDataSources': [],\n",
       " 'competitionDataSources': [],\n",
       " 'totalVotes': 0}"
      ]
     },
     "execution_count": 47,
     "metadata": {},
     "output_type": "execute_result"
    }
   ],
   "source": [
    "s_notebook['metadata']"
   ]
  },
  {
   "cell_type": "code",
   "execution_count": 53,
   "metadata": {},
   "outputs": [
    {
     "data": {
      "text/plain": [
       "dict_keys(['source', 'language', 'kernelType', 'slug'])"
      ]
     },
     "execution_count": 53,
     "metadata": {},
     "output_type": "execute_result"
    }
   ],
   "source": [
    "s_notebook['blob'].keys()"
   ]
  },
  {
   "cell_type": "code",
   "execution_count": 60,
   "metadata": {},
   "outputs": [
    {
     "name": "stdout",
     "output_type": "stream",
     "text": [
      "{\"metadata\":{\"kernelspec\":{\"language\":\"python\",\"display_name\":\"Python 3\",\"name\":\"python3\"},\"language_info\":{\"pygments_lexer\":\"ipython3\",\"nbconvert_exporter\":\"python\",\"version\":\"3.6.4\",\"file_extension\":\".py\",\"codemirror_mode\":{\"name\":\"ipython\",\"version\":3},\"name\":\"python\",\"mimetype\":\"text/x-python\"}},\"nbformat_minor\":4,\"nbformat\":4,\"cells\":[{\"cell_type\":\"markdown\",\"source\":\"# Is $Y$ normal?\\nIn linear regression, notation such as the below equation can be somewhat puzzeling, if you are a beginner, like me:\\n$$ Y \\\\sim \\\\mathcal{N}(\\\\alpha+\\\\beta \\\\cdot x,\\\\,\\\\epsilon)\\\\ $$\\n\\nWhat does this mean?\\n\\nDoes it mean that $ Y $ is now also normal distributed?\\n\\n$$ Y \\\\sim \\\\mathcal{N}(\\\\mu,\\\\,\\\\sigma^{2})\\\\ $$\\n\\nThis notebook explores this a bit, in order to get a more clear understanding.\\n\\n\",\"metadata\":{}},{\"cell_type\":\"code\",\"source\":\"# This Python 3 environment comes with many helpful analytics libraries installed\\n# It is defined by the kaggle/python Docker image: https://github.com/kaggle/docker-python\\n# For example, here's several helpful packages to load\\n\\nimport numpy as np # linear algebra\\nimport pandas as pd # data processing, CSV file I/O (e.g. pd.read_csv)\\nimport matplotlib.pyplot as plt\\nimport seaborn as sns\\nimport sympy as sp\",\"metadata\":{\"_uuid\":\"8f2839f25d086af736a60e9eeb907d3b93b6e0e5\",\"_cell_guid\":\"b1076dfc-b9ad-4769-8c92-a6c4dae69d19\",\"trusted\":true},\"execution_count\":null,\"outputs\":[]},{\"cell_type\":\"markdown\",\"source\":\"Lets consider a simple linear line:\",\"metadata\":{}},{\"cell_type\":\"code\",\"source\":\"x,y,alpha,beta = sp.symbols('x y alpha beta')\\neq = sp.Eq(y,\\n          alpha + beta*x)\\neq\",\"metadata\":{\"trusted\":true},\"execution_count\":null,\"outputs\":[]},{\"cell_type\":\"code\",\"source\":\"## Converting sympy expression to python method:\\nlambda_eq = sp.lambdify([x,alpha,beta],eq.rhs)\\nlambda_eq\",\"metadata\":{\"trusted\":true},\"execution_count\":null,\"outputs\":[]},{\"cell_type\":\"markdown\",\"source\":\"Here is a graph showing this line for 5 values of $x$:\",\"metadata\":{}},{\"cell_type\":\"code\",\"source\":\"N_x = 5\\nN_epsilon = 1000\\nN = N_x*N_epsilon\\n\\n\\nxs = np.linspace(0,1, int(N_x))\\nx_ = np.tile(xs,N_epsilon)\\n\\ndf = pd.DataFrame(index=x_)\\ndf['x'] = x_\\ndf['alpha'] = 10\\ndf['beta'] = 60\\ndf['y'] = lambda_eq(x=df['x'], alpha=df['alpha'], beta=df['beta'])\",\"metadata\":{\"trusted\":true},\"execution_count\":null,\"outputs\":[]},{\"cell_type\":\"code\",\"source\":\"fig,ax=plt.subplots()\\ndf.groupby(by='x').first().plot(y='y', style='o-', lw=2, ax=ax, zorder=2)\\nax.set_ylabel('y')\\nax.set_xlabel('x');\",\"metadata\":{\"trusted\":true},\"execution_count\":null,\"outputs\":[]},{\"cell_type\":\"markdown\",\"source\":\"Let's pretend that this line represents something that we can measure from a physical experiment. We assume that the measuring error is normal distributed $ \\\\epsilon \\\\sim \\\\mathcal{N}(0,\\\\,\\\\sigma^{2})\\\\ $ so that the measured values of $y$ is expressed as:\",\"metadata\":{}},{\"cell_type\":\"code\",\"source\":\"epsilon = sp.symbols('epsilon')\\neq_probabalitic = sp.Eq(eq.lhs,\\n                       eq.rhs + epsilon)\\n\\neq_probabalitic\",\"metadata\":{\"trusted\":true},\"execution_count\":null,\"outputs\":[]},{\"cell_type\":\"markdown\",\"source\":\"We measure $y$ 1000 times for each of the 5 values of $x$. This means that we will get 1000 values of the measuring error $\\\\epsilon \\\\sim \\\\mathcal{N}(0,2^{2})\\\\ $ for each $x$.\",\"metadata\":{}},{\"cell_type\":\"code\",\"source\":\"np.random.seed(42)\\ndf['epsilon'] = df.groupby('x')['y'].transform(lambda x: np.random.normal(loc=0, scale = 2.0, size=N_epsilon))\",\"metadata\":{\"trusted\":true},\"execution_count\":null,\"outputs\":[]},{\"cell_type\":\"code\",\"source\":\"## Converting sympy expression to python method:\\nlambda_eq_probabalitic = sp.lambdify([x,alpha,beta,epsilon],eq_probabalitic.rhs)\\nlambda_eq_probabalitic\",\"metadata\":{\"trusted\":true},\"execution_count\":null,\"outputs\":[]},{\"cell_type\":\"code\",\"source\":\"df['y_measure'] = lambda_eq_probabalitic(x=df['x'], alpha=df['alpha'], beta=df['beta'], epsilon=df['epsilon'])\\n\",\"metadata\":{\"trusted\":true},\"execution_count\":null,\"outputs\":[]},{\"cell_type\":\"markdown\",\"source\":\"The measured values of $y$ is shown in the graph below:\",\"metadata\":{}},{\"cell_type\":\"code\",\"source\":\"fig,ax=plt.subplots()\\ndf.plot(y='y', style='-', lw=2, ax=ax, zorder=2)\\ndf.plot(y='y_measure', style='.', alpha=0.05, ax=ax, zorder=1)\\nax.set_ylabel('y')\\nax.set_xlabel('x');\",\"metadata\":{\"trusted\":true},\"execution_count\":null,\"outputs\":[]},{\"cell_type\":\"markdown\",\"source\":\"The measured $y$ has values distributed around the true values of $y$. These distributions becomes even more visible if we create histograms of the measured $y$:\",\"metadata\":{}},{\"cell_type\":\"code\",\"source\":\"fig,ax=plt.subplots()\\nfor the_x, group in df.groupby(by='x'):\\n    group.hist(column='y_measure', bins=20, ax=ax, label='x=%0.2f' % the_x)\\n    \\nax.set_xlabel('y_measure')\\nax.legend();\",\"metadata\":{\"trusted\":true},\"execution_count\":null,\"outputs\":[]},{\"cell_type\":\"markdown\",\"source\":\"So it is very clear from the above graph that the measured $y$ is not normal distributed but the measurement error $\\\\epsilon$ (being the deviation from the idealized line) is:\",\"metadata\":{}},{\"cell_type\":\"code\",\"source\":\"ax_epsilon = sns.histplot(data=df, x=\\\"epsilon\\\", stat=\\\"density\\\", bins=20, kde=True);\\n#ax_epsilon.set_xlim(ax_y.get_xlim());\\nax_epsilon.set_xlabel('Measure error: $\\\\epsilon$');\",\"metadata\":{\"trusted\":true},\"execution_count\":null,\"outputs\":[]},{\"cell_type\":\"markdown\",\"source\":\"The histogram of the idealized $y$ looks like this, by the way:\",\"metadata\":{}},{\"cell_type\":\"code\",\"source\":\"ax_y = sns.histplot(data=df, x=\\\"y\\\", stat=\\\"density\\\", bins=20, kde=True);\",\"metadata\":{\"trusted\":true},\"execution_count\":null,\"outputs\":[]}]}\n"
     ]
    }
   ],
   "source": [
    "source = s_notebook['blob']['source']\n",
    "print(source)"
   ]
  },
  {
   "cell_type": "code",
   "execution_count": null,
   "metadata": {},
   "outputs": [],
   "source": []
  }
 ],
 "metadata": {
  "kernelspec": {
   "display_name": "Python 3",
   "language": "python",
   "name": "python3"
  },
  "language_info": {
   "codemirror_mode": {
    "name": "ipython",
    "version": 3
   },
   "file_extension": ".py",
   "mimetype": "text/x-python",
   "name": "python",
   "nbconvert_exporter": "python",
   "pygments_lexer": "ipython3",
   "version": "3.8.7"
  },
  "toc": {
   "base_numbering": 1,
   "nav_menu": {},
   "number_sections": true,
   "sideBar": true,
   "skip_h1_title": false,
   "title_cell": "Table of Contents",
   "title_sidebar": "Contents",
   "toc_cell": false,
   "toc_position": {},
   "toc_section_display": true,
   "toc_window_display": false
  }
 },
 "nbformat": 4,
 "nbformat_minor": 4
}
