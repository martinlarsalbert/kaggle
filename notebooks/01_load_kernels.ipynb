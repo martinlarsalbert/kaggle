{
 "cells": [
  {
   "cell_type": "markdown",
   "metadata": {},
   "source": [
    "# Load kernels using the kaggle api"
   ]
  },
  {
   "cell_type": "code",
   "execution_count": 44,
   "metadata": {},
   "outputs": [],
   "source": [
    "from kaggle.api.kaggle_api_extended import KaggleApi\n",
    "import os\n",
    "import json"
   ]
  },
  {
   "cell_type": "code",
   "execution_count": 12,
   "metadata": {},
   "outputs": [],
   "source": [
    "api = KaggleApi()\n",
    "api.authenticate()"
   ]
  },
  {
   "cell_type": "code",
   "execution_count": 21,
   "metadata": {},
   "outputs": [],
   "source": [
    "kernels = api.kernels_list(mine=True)"
   ]
  },
  {
   "cell_type": "code",
   "execution_count": 45,
   "metadata": {},
   "outputs": [],
   "source": [
    "user_name = 'martinlarsalbert'\n",
    "kernels_path = '../kernels/'\n",
    "\n",
    "for kernel  in kernels:\n",
    "    \n",
    "    ref = kernel.ref\n",
    "    name = os.path.split(ref)[-1]\n",
    "    \n",
    "    kernel_dir_path = os.path.join(kernels_path, name)\n",
    "       \n",
    "    if not os.path.exists(kernel_dir_path):\n",
    "        os.mkdir(kernel_dir_path)\n",
    "\n",
    "    s_notebook = api.kernel_pull(user_name=user_name, kernel_slug=r'y-is-normal')\n",
    "    notebook_name = '%s.ipynb' % name\n",
    "    notebook_path = os.path.join(kernel_dir_path, notebook_name)\n",
    "    \n",
    "    with open(notebook_path, mode='w') as file:   \n",
    "        json.dump(s_notebook, file)"
   ]
  }
 ],
 "metadata": {
  "kernelspec": {
   "display_name": "Python 3",
   "language": "python",
   "name": "python3"
  },
  "language_info": {
   "codemirror_mode": {
    "name": "ipython",
    "version": 3
   },
   "file_extension": ".py",
   "mimetype": "text/x-python",
   "name": "python",
   "nbconvert_exporter": "python",
   "pygments_lexer": "ipython3",
   "version": "3.8.7"
  },
  "toc": {
   "base_numbering": 1,
   "nav_menu": {},
   "number_sections": true,
   "sideBar": true,
   "skip_h1_title": false,
   "title_cell": "Table of Contents",
   "title_sidebar": "Contents",
   "toc_cell": false,
   "toc_position": {},
   "toc_section_display": true,
   "toc_window_display": false
  }
 },
 "nbformat": 4,
 "nbformat_minor": 4
}
