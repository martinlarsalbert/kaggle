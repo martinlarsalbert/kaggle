# %% [code] {"_kg_hide-input":false}
# %% [code] {"_kg_hide-input":false}
# %% [code]


import numpy as np # linear algebra

def get_data():
    np.random.seed(42)
    observed=np.random.randn(100)
    return observed

