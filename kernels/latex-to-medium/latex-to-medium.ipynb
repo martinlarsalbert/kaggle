{
 "cells": [
  {
   "cell_type": "markdown",
   "metadata": {},
   "source": [
    "# LaTeX to medium\n",
    "![](jeshoots-com-5EKw8Z7CgE4-unsplash.jpg)\n",
    "\n",
    "Being a dedicated user of jupyter notebooks in my research, I was very pleased to hear about the \n",
    "[jupyter_to_medium](https://github.com/dexplo/jupyter_to_medium) package which is also introduced in this [post](https://medium.com/dunder-data/jupyter-to-medium-initial-post-ecd140d339f0).\n",
    "\n",
    "I am very impressed how my work in jupyter can easily be converted into a medium post. One pretty essential part missing in the conversion however, are the LaTeX equations from my notebooks... :(\n",
    "\n",
    "This is a known issue, but someone proposed a solution where matplotlib could be used to render the equations into images stored within the notebooks. This means that the equations will be converted to medium by [jupyter_to_medium](https://github.com/dexplo/jupyter_to_medium). Here is my attempt to use this solution. \n",
    "\n",
    "The example notebook that was used to create this post is available at:\n",
    "* [Kaggle](https://www.kaggle.com/martinlarsalbert/latex-to-medium)\n",
    "* [GitHub](https://github.com/martinlarsalbert/kaggle/tree/main/kernels/latex_to_medium/latex_to_medium.ipynb)\n"
   ]
  },
  {
   "cell_type": "markdown",
   "metadata": {},
   "source": [
    "I wrote a simple method that uses matplotlib to render the equations:"
   ]
  },
  {
   "cell_type": "code",
   "execution_count": 1,
   "metadata": {
    "execution": {
     "iopub.execute_input": "2021-05-04T20:00:25.023521Z",
     "iopub.status.busy": "2021-05-04T20:00:25.022839Z",
     "iopub.status.idle": "2021-05-04T20:00:25.792431Z",
     "shell.execute_reply": "2021-05-04T20:00:25.792949Z"
    },
    "tags": [
     "show"
    ]
   },
   "outputs": [],
   "source": [
    "import matplotlib.pyplot as plt\n",
    "import sympy as sp\n",
    "\n",
    "def display(eq:sp.Eq, size=20):\n",
    "    \"\"\"\n",
    "    Use matplotlib to render LaTeX equations to figure within notebook.\n",
    "    \n",
    "    ----------\n",
    "    eq : str or sympy.Eq\n",
    "    LaTeX equation to render\n",
    "    \n",
    "    size : int\n",
    "    size of the equation\n",
    "    \"\"\"\n",
    "    \n",
    "    if isinstance(eq, str):\n",
    "        eq_latex = eq\n",
    "    else:\n",
    "        eq_latex = sp.latex(eq)\n",
    "\n",
    "    fig,ax=plt.subplots()\n",
    "    fig.set_size_inches(0.01, 0.01)\n",
    "    ax.axis(\"off\")\n",
    "    plt.title(r'$' + eq_latex + r'$' , size=size);"
   ]
  },
  {
   "cell_type": "markdown",
   "metadata": {},
   "source": [
    "As I'm also a big fan of the SymPy package, this method accepts equations both as pure LaTeX string or a SymPy expression.It is either possible to write the LaTeX:"
   ]
  },
  {
   "cell_type": "code",
   "execution_count": 2,
   "metadata": {
    "execution": {
     "iopub.execute_input": "2021-05-04T20:00:25.829690Z",
     "iopub.status.busy": "2021-05-04T20:00:25.818587Z",
     "iopub.status.idle": "2021-05-04T20:00:26.102889Z",
     "shell.execute_reply": "2021-05-04T20:00:26.102329Z"
    },
    "tags": [
     "show"
    ]
   },
   "outputs": [
    {
     "data": {
      "image/png": "[encoded data removed]",
      "text/plain": [
       "<Figure size 0.72x0.72 with 1 Axes>"
      ]
     },
     "metadata": {
      "needs_background": "light"
     },
     "output_type": "display_data"
    }
   ],
   "source": [
    "eq = r'E = m*c^2'\n",
    "display(eq)"
   ]
  },
  {
   "cell_type": "markdown",
   "metadata": {},
   "source": [
    "...or as a SymPy expression"
   ]
  },
  {
   "cell_type": "code",
   "execution_count": 3,
   "metadata": {
    "execution": {
     "iopub.execute_input": "2021-05-04T20:00:26.109705Z",
     "iopub.status.busy": "2021-05-04T20:00:26.109059Z",
     "iopub.status.idle": "2021-05-04T20:00:26.443417Z",
     "shell.execute_reply": "2021-05-04T20:00:26.444047Z"
    },
    "tags": [
     "show"
    ]
   },
   "outputs": [
    {
     "data": {
      "image/png": "[encoded data removed]",
      "text/plain": [
       "<Figure size 0.72x0.72 with 1 Axes>"
      ]
     },
     "metadata": {
      "needs_background": "light"
     },
     "output_type": "display_data"
    }
   ],
   "source": [
    "E,m,c = sp.symbols('E m c')\n",
    "eq2 = sp.Eq(E,m*c**2)\n",
    "display(eq2)"
   ]
  },
  {
   "cell_type": "markdown",
   "metadata": {},
   "source": [
    "## Conclusions\n",
    "Eventhough this requires that you rewrite your notebooks using the display method, I think that this is still much more convenient than having to create these LaTeX equations as images in some other (more manual way). I will now definatelly used the [jupyter_to_medium](https://github.com/dexplo/jupyter_to_medium) package for my next post. "
   ]
  }
 ],
 "metadata": {
  "kernelspec": {
   "display_name": "Python 3",
   "language": "python",
   "name": "python3"
  },
  "language_info": {
   "codemirror_mode": {
    "name": "ipython",
    "version": 3
   },
   "file_extension": ".py",
   "mimetype": "text/x-python",
   "name": "python",
   "nbconvert_exporter": "python",
   "pygments_lexer": "ipython3",
   "version": "3.6.5"
  }
 },
 "nbformat": 4,
 "nbformat_minor": 4
}
